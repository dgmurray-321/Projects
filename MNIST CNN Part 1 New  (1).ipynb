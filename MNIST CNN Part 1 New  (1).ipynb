{
 "cells": [
  {
   "cell_type": "markdown",
   "id": "30812bf2",
   "metadata": {},
   "source": [
    "## Load Libraries and Load Dataset"
   ]
  },
  {
   "cell_type": "code",
   "execution_count": 1,
   "id": "f1a05e7a",
   "metadata": {},
   "outputs": [],
   "source": [
    "import numpy as np \n",
    "import pandas as pd\n",
    "\n",
    "import matplotlib.pyplot as plt\n",
    "\n",
    "%matplotlib inline"
   ]
  },
  {
   "cell_type": "code",
   "execution_count": 2,
   "id": "a314f276",
   "metadata": {},
   "outputs": [],
   "source": [
    "import tensorflow as tf\n"
   ]
  },
  {
   "cell_type": "code",
   "execution_count": 3,
   "id": "ddbc235a",
   "metadata": {},
   "outputs": [
    {
     "name": "stdout",
     "output_type": "stream",
     "text": [
      "1.15.5\n"
     ]
    }
   ],
   "source": [
    "print(tf.__version__)"
   ]
  },
  {
   "cell_type": "code",
   "execution_count": 5,
   "id": "207427d2",
   "metadata": {},
   "outputs": [],
   "source": [
    "from tensorflow.examples.tutorials.mnist import input_data"
   ]
  },
  {
   "cell_type": "code",
   "execution_count": 6,
   "id": "49791eb2",
   "metadata": {},
   "outputs": [
    {
     "name": "stdout",
     "output_type": "stream",
     "text": [
      "WARNING:tensorflow:From /tmp/ipykernel_2924/1026083996.py:1: read_data_sets (from tensorflow.contrib.learn.python.learn.datasets.mnist) is deprecated and will be removed in a future version.\n",
      "Instructions for updating:\n",
      "Please use alternatives such as official/mnist/dataset.py from tensorflow/models.\n",
      "WARNING:tensorflow:From /opt/conda/lib/python3.7/site-packages/tensorflow_core/contrib/learn/python/learn/datasets/mnist.py:260: maybe_download (from tensorflow.contrib.learn.python.learn.datasets.base) is deprecated and will be removed in a future version.\n",
      "Instructions for updating:\n",
      "Please write your own downloading logic.\n",
      "WARNING:tensorflow:From /opt/conda/lib/python3.7/site-packages/tensorflow_core/contrib/learn/python/learn/datasets/mnist.py:262: extract_images (from tensorflow.contrib.learn.python.learn.datasets.mnist) is deprecated and will be removed in a future version.\n",
      "Instructions for updating:\n",
      "Please use tf.data to implement this functionality.\n",
      "Extracting MNIST_data/train-images-idx3-ubyte.gz\n",
      "WARNING:tensorflow:From /opt/conda/lib/python3.7/site-packages/tensorflow_core/contrib/learn/python/learn/datasets/mnist.py:267: extract_labels (from tensorflow.contrib.learn.python.learn.datasets.mnist) is deprecated and will be removed in a future version.\n",
      "Instructions for updating:\n",
      "Please use tf.data to implement this functionality.\n",
      "Extracting MNIST_data/train-labels-idx1-ubyte.gz\n",
      "WARNING:tensorflow:From /opt/conda/lib/python3.7/site-packages/tensorflow_core/contrib/learn/python/learn/datasets/mnist.py:110: dense_to_one_hot (from tensorflow.contrib.learn.python.learn.datasets.mnist) is deprecated and will be removed in a future version.\n",
      "Instructions for updating:\n",
      "Please use tf.one_hot on tensors.\n",
      "Extracting MNIST_data/t10k-images-idx3-ubyte.gz\n",
      "Extracting MNIST_data/t10k-labels-idx1-ubyte.gz\n",
      "WARNING:tensorflow:From /opt/conda/lib/python3.7/site-packages/tensorflow_core/contrib/learn/python/learn/datasets/mnist.py:290: DataSet.__init__ (from tensorflow.contrib.learn.python.learn.datasets.mnist) is deprecated and will be removed in a future version.\n",
      "Instructions for updating:\n",
      "Please use alternatives such as official/mnist/dataset.py from tensorflow/models.\n"
     ]
    }
   ],
   "source": [
    "mnist = input_data.read_data_sets(\"MNIST_data/\", one_hot = True)"
   ]
  },
  {
   "cell_type": "code",
   "execution_count": 7,
   "id": "492ab848",
   "metadata": {},
   "outputs": [
    {
     "data": {
      "text/plain": [
       "55000"
      ]
     },
     "execution_count": 7,
     "metadata": {},
     "output_type": "execute_result"
    }
   ],
   "source": [
    "mnist.train.num_examples"
   ]
  },
  {
   "cell_type": "code",
   "execution_count": 8,
   "id": "d4825d19",
   "metadata": {},
   "outputs": [
    {
     "data": {
      "text/plain": [
       "10000"
      ]
     },
     "execution_count": 8,
     "metadata": {},
     "output_type": "execute_result"
    }
   ],
   "source": [
    "mnist.test.num_examples"
   ]
  },
  {
   "cell_type": "markdown",
   "id": "ad326e1d",
   "metadata": {},
   "source": [
    "## Define Weights"
   ]
  },
  {
   "cell_type": "code",
   "execution_count": 9,
   "id": "ad1de942",
   "metadata": {},
   "outputs": [],
   "source": [
    "def initialize_weights (filter_shape):\n",
    "    init_random_dist = tf.truncated_normal(filter_shape, stddev=0.1)\n",
    "    \n",
    "    return ( tf.Variable(init_random_dist) )"
   ]
  },
  {
   "cell_type": "markdown",
   "id": "7bf635d0",
   "metadata": {},
   "source": [
    "## Define Bias"
   ]
  },
  {
   "cell_type": "code",
   "execution_count": 10,
   "id": "7332f22b",
   "metadata": {},
   "outputs": [],
   "source": [
    "def initialize_bias (bias_shape):\n",
    "    \n",
    "    initial_bias_vals = tf.constant (0.1, shape = bias_shape)\n",
    "    \n",
    "    return (tf.Variable (initial_bias_vals))"
   ]
  },
  {
   "cell_type": "markdown",
   "id": "5afeb6c2",
   "metadata": {},
   "source": [
    "## Define Convolution Layer"
   ]
  },
  {
   "cell_type": "code",
   "execution_count": 11,
   "id": "e418bf01",
   "metadata": {},
   "outputs": [],
   "source": [
    "def create_convolution_layer_and_compute_dot_product (inputs, filter_shape):\n",
    "    \n",
    "    filter_initialized_with_weights = initialize_weights (filter_shape)\n",
    "    \n",
    "    conv_layer_outputs = tf.nn.conv2d(inputs, filter_initialized_with_weights, strides = [1, 1, 1, 1], padding='SAME')\n",
    "    \n",
    "    return (conv_layer_outputs)"
   ]
  },
  {
   "cell_type": "markdown",
   "id": "c130bc88",
   "metadata": {},
   "source": [
    "## Define ReLu Layer "
   ]
  },
  {
   "cell_type": "code",
   "execution_count": 12,
   "id": "cf28209a",
   "metadata": {},
   "outputs": [],
   "source": [
    "def create_relu_layer_and_compute_dotproduct_plus_b(inputs, filter_shape):\n",
    "    \n",
    "    b = initialize_bias ([ filter_shape[3] ])\n",
    "    \n",
    "    relu_layer_outputs = tf.nn.relu(inputs + b)\n",
    "    \n",
    "    return ( relu_layer_outputs )"
   ]
  },
  {
   "cell_type": "markdown",
   "id": "3f78d4ee",
   "metadata": {},
   "source": [
    "## Define Max pool layer of 2 by 2 "
   ]
  },
  {
   "cell_type": "code",
   "execution_count": null,
   "id": "29db208d",
   "metadata": {},
   "outputs": [],
   "source": [
    "def create_maxpool2by2_and_reduce_spatial_size (inputs): \n",
    "    \n",
    "    pooling_layer_outputs = tf.nn.max_pool(inputs, ksize=[1,2,2,1], strides=[1,2,2,1], padding='SAME')\n",
    "    \n",
    "    return ( pooling_layer_outputs )"
   ]
  },
  {
   "cell_type": "markdown",
   "id": "c57920ba",
   "metadata": {},
   "source": [
    "## Define Fully connected Layer "
   ]
  },
  {
   "cell_type": "code",
   "execution_count": 29,
   "id": "14c909a5",
   "metadata": {},
   "outputs": [],
   "source": [
    "def create_fully_connected_layer_and_compute_dotproduct_plus_bias (inputs, output_size):\n",
    "    \n",
    "    input_size = int(inputs.get_shape()[1])\n",
    "    \n",
    "    \n",
    "    W = initialize_weights ([input_size, output_size])\n",
    "    \n",
    "    b = initialize_bias ([output_size])\n",
    "    \n",
    "    fc_xW_plus_bias_outputs = tf.matmul(inputs, W) + b\n",
    "    \n",
    "    return (fc_xW_plus_bias_outputs)"
   ]
  },
  {
   "cell_type": "code",
   "execution_count": 15,
   "id": "b0a3ebba",
   "metadata": {},
   "outputs": [
    {
     "name": "stdout",
     "output_type": "stream",
     "text": [
      "WARNING:tensorflow:From /tmp/ipykernel_2924/605358465.py:1: The name tf.placeholder is deprecated. Please use tf.compat.v1.placeholder instead.\n",
      "\n"
     ]
    }
   ],
   "source": [
    "x = tf.placeholder(tf.float32, shape=[None, 784])"
   ]
  },
  {
   "cell_type": "markdown",
   "id": "32a1cfd1",
   "metadata": {},
   "source": [
    "## Build CNN Model "
   ]
  },
  {
   "cell_type": "code",
   "execution_count": 16,
   "id": "a4baa9f4",
   "metadata": {},
   "outputs": [],
   "source": [
    "y_true = tf.placeholder(tf.float32, [None, 10])"
   ]
  },
  {
   "cell_type": "code",
   "execution_count": 18,
   "id": "7887abc1",
   "metadata": {},
   "outputs": [],
   "source": [
    "x_image = tf.reshape(x, [-1, 28, 28, 1])"
   ]
  },
  {
   "cell_type": "code",
   "execution_count": 19,
   "id": "cad5ea1c",
   "metadata": {},
   "outputs": [
    {
     "name": "stdout",
     "output_type": "stream",
     "text": [
      "WARNING:tensorflow:From /tmp/ipykernel_2924/4253290125.py:2: The name tf.truncated_normal is deprecated. Please use tf.random.truncated_normal instead.\n",
      "\n"
     ]
    }
   ],
   "source": [
    "conv_layer_1_outputs \\\n",
    "    = create_convolution_layer_and_compute_dot_product (x_image, filter_shape=[5, 5, 1, 32])\n",
    "\n",
    "\n",
    "\n",
    "conv_relu_layer_1_outputs \\\n",
    "    = create_relu_layer_and_compute_dotproduct_plus_b (conv_layer_1_outputs, filter_shape=[5, 5, 1, 32])"
   ]
  },
  {
   "cell_type": "code",
   "execution_count": 20,
   "id": "3d452810",
   "metadata": {},
   "outputs": [
    {
     "name": "stdout",
     "output_type": "stream",
     "text": [
      "WARNING:tensorflow:From /tmp/ipykernel_2924/1131077746.py:3: The name tf.nn.max_pool is deprecated. Please use tf.nn.max_pool2d instead.\n",
      "\n"
     ]
    }
   ],
   "source": [
    "pooling_layer_1_outputs = create_maxpool2by2_and_reduce_spatial_size (conv_relu_layer_1_outputs)"
   ]
  },
  {
   "cell_type": "code",
   "execution_count": 21,
   "id": "0d2bbb97",
   "metadata": {},
   "outputs": [],
   "source": [
    "conv_layer_2_outputs \\\n",
    "    = create_convolution_layer_and_compute_dot_product (pooling_layer_1_outputs, filter_shape=[5, 5, 32, 64])\n",
    "\n",
    "\n",
    "conv_relu_layer_2_outputs \\\n",
    "    = create_relu_layer_and_compute_dotproduct_plus_b (conv_layer_2_outputs, filter_shape=[5, 5, 32, 64])"
   ]
  },
  {
   "cell_type": "code",
   "execution_count": 23,
   "id": "8b4e1b16",
   "metadata": {},
   "outputs": [],
   "source": [
    "pooling_layer_2_outputs = create_maxpool2by2_and_reduce_spatial_size (conv_relu_layer_2_outputs)"
   ]
  },
  {
   "cell_type": "code",
   "execution_count": 24,
   "id": "aba7496d",
   "metadata": {},
   "outputs": [],
   "source": [
    "pooling_layer_2_outputs_flat = tf.reshape(pooling_layer_2_outputs, [-1, 7 * 7 * 64])"
   ]
  },
  {
   "cell_type": "code",
   "execution_count": 30,
   "id": "e430f5ce",
   "metadata": {},
   "outputs": [],
   "source": [
    "fc_layer_1_outputs \\\n",
    "    = create_fully_connected_layer_and_compute_dotproduct_plus_bias (pooling_layer_2_outputs_flat, output_size = 1024)\n",
    "\n",
    "\n",
    "fc_relu_layer_1_outputs = tf.nn.relu ( fc_layer_1_outputs )"
   ]
  },
  {
   "cell_type": "code",
   "execution_count": 31,
   "id": "d1211121",
   "metadata": {},
   "outputs": [
    {
     "name": "stdout",
     "output_type": "stream",
     "text": [
      "WARNING:tensorflow:From /tmp/ipykernel_2924/3904611927.py:4: calling dropout (from tensorflow.python.ops.nn_ops) with keep_prob is deprecated and will be removed in a future version.\n",
      "Instructions for updating:\n",
      "Please use `rate` instead of `keep_prob`. Rate should be set to `rate = 1 - keep_prob`.\n"
     ]
    }
   ],
   "source": [
    "hold_prob = tf.placeholder(tf.float32)\n",
    "\n",
    "\n",
    "fc_dropout_outputs = tf.nn.dropout(fc_relu_layer_1_outputs, keep_prob=hold_prob)"
   ]
  },
  {
   "cell_type": "code",
   "execution_count": 32,
   "id": "f0c5880f",
   "metadata": {},
   "outputs": [],
   "source": [
    "y_pred = create_fully_connected_layer_and_compute_dotproduct_plus_bias(fc_dropout_outputs, output_size=10)"
   ]
  },
  {
   "cell_type": "code",
   "execution_count": 35,
   "id": "a305a823",
   "metadata": {},
   "outputs": [],
   "source": [
    "softmax_cross_entropy_loss = tf.nn.softmax_cross_entropy_with_logits(labels=y_true, logits = y_pred)\n",
    "\n",
    "cross_entropy_mean = tf.reduce_mean(softmax_cross_entropy_loss)"
   ]
  },
  {
   "cell_type": "code",
   "execution_count": 36,
   "id": "7b0c11d2",
   "metadata": {},
   "outputs": [
    {
     "name": "stdout",
     "output_type": "stream",
     "text": [
      "WARNING:tensorflow:From /tmp/ipykernel_2924/3504862886.py:1: The name tf.train.AdamOptimizer is deprecated. Please use tf.compat.v1.train.AdamOptimizer instead.\n",
      "\n"
     ]
    }
   ],
   "source": [
    "optimizer = tf.train.AdamOptimizer(learning_rate = 0.001)"
   ]
  },
  {
   "cell_type": "code",
   "execution_count": 37,
   "id": "f03298ed",
   "metadata": {},
   "outputs": [],
   "source": [
    "cnn_trainer = optimizer.minimize(cross_entropy_mean)"
   ]
  },
  {
   "cell_type": "code",
   "execution_count": 38,
   "id": "06f735fd",
   "metadata": {},
   "outputs": [
    {
     "name": "stdout",
     "output_type": "stream",
     "text": [
      "WARNING:tensorflow:From /tmp/ipykernel_2924/2314307437.py:1: The name tf.global_variables_initializer is deprecated. Please use tf.compat.v1.global_variables_initializer instead.\n",
      "\n"
     ]
    }
   ],
   "source": [
    "vars_initializer = tf.global_variables_initializer()"
   ]
  },
  {
   "cell_type": "markdown",
   "id": "125e584b",
   "metadata": {},
   "source": [
    "## Train and Test CNN Model "
   ]
  },
  {
   "cell_type": "code",
   "execution_count": 42,
   "id": "a2319492",
   "metadata": {},
   "outputs": [],
   "source": [
    "steps = 5000"
   ]
  },
  {
   "cell_type": "code",
   "execution_count": 43,
   "id": "125dfccb",
   "metadata": {},
   "outputs": [
    {
     "name": "stdout",
     "output_type": "stream",
     "text": [
      "ON STEP: 0\n",
      "ACCURACY: \n",
      "0.1073\n",
      "\n",
      "\n",
      "ON STEP: 100\n",
      "ACCURACY: \n",
      "0.9456\n",
      "\n",
      "\n",
      "ON STEP: 200\n",
      "ACCURACY: \n",
      "0.963\n",
      "\n",
      "\n",
      "ON STEP: 300\n",
      "ACCURACY: \n",
      "0.9672\n",
      "\n",
      "\n",
      "ON STEP: 400\n",
      "ACCURACY: \n",
      "0.9739\n",
      "\n",
      "\n",
      "ON STEP: 500\n",
      "ACCURACY: \n",
      "0.9778\n",
      "\n",
      "\n",
      "ON STEP: 600\n",
      "ACCURACY: \n",
      "0.9799\n",
      "\n",
      "\n",
      "ON STEP: 700\n",
      "ACCURACY: \n",
      "0.9786\n",
      "\n",
      "\n",
      "ON STEP: 800\n",
      "ACCURACY: \n",
      "0.9788\n",
      "\n",
      "\n",
      "ON STEP: 900\n",
      "ACCURACY: \n",
      "0.9818\n",
      "\n",
      "\n",
      "ON STEP: 1000\n",
      "ACCURACY: \n",
      "0.9862\n",
      "\n",
      "\n",
      "ON STEP: 1100\n",
      "ACCURACY: \n",
      "0.9855\n",
      "\n",
      "\n",
      "ON STEP: 1200\n",
      "ACCURACY: \n",
      "0.9832\n",
      "\n",
      "\n",
      "ON STEP: 1300\n",
      "ACCURACY: \n",
      "0.9852\n",
      "\n",
      "\n",
      "ON STEP: 1400\n",
      "ACCURACY: \n",
      "0.9833\n",
      "\n",
      "\n",
      "ON STEP: 1500\n",
      "ACCURACY: \n",
      "0.9865\n",
      "\n",
      "\n",
      "ON STEP: 1600\n",
      "ACCURACY: \n",
      "0.9859\n",
      "\n",
      "\n",
      "ON STEP: 1700\n",
      "ACCURACY: \n",
      "0.9858\n",
      "\n",
      "\n",
      "ON STEP: 1800\n",
      "ACCURACY: \n",
      "0.9841\n",
      "\n",
      "\n",
      "ON STEP: 1900\n",
      "ACCURACY: \n",
      "0.9844\n",
      "\n",
      "\n",
      "ON STEP: 2000\n",
      "ACCURACY: \n",
      "0.9856\n",
      "\n",
      "\n",
      "ON STEP: 2100\n",
      "ACCURACY: \n",
      "0.9872\n",
      "\n",
      "\n",
      "ON STEP: 2200\n",
      "ACCURACY: \n",
      "0.9886\n",
      "\n",
      "\n",
      "ON STEP: 2300\n",
      "ACCURACY: \n",
      "0.99\n",
      "\n",
      "\n",
      "ON STEP: 2400\n",
      "ACCURACY: \n",
      "0.9872\n",
      "\n",
      "\n",
      "ON STEP: 2500\n",
      "ACCURACY: \n",
      "0.9863\n",
      "\n",
      "\n",
      "ON STEP: 2600\n",
      "ACCURACY: \n",
      "0.988\n",
      "\n",
      "\n",
      "ON STEP: 2700\n",
      "ACCURACY: \n",
      "0.9889\n",
      "\n",
      "\n",
      "ON STEP: 2800\n",
      "ACCURACY: \n",
      "0.9845\n",
      "\n",
      "\n",
      "ON STEP: 2900\n",
      "ACCURACY: \n",
      "0.9898\n",
      "\n",
      "\n",
      "ON STEP: 3000\n",
      "ACCURACY: \n",
      "0.9906\n",
      "\n",
      "\n",
      "ON STEP: 3100\n",
      "ACCURACY: \n",
      "0.9897\n",
      "\n",
      "\n",
      "ON STEP: 3200\n",
      "ACCURACY: \n",
      "0.9877\n",
      "\n",
      "\n",
      "ON STEP: 3300\n",
      "ACCURACY: \n",
      "0.9877\n",
      "\n",
      "\n",
      "ON STEP: 3400\n",
      "ACCURACY: \n",
      "0.987\n",
      "\n",
      "\n",
      "ON STEP: 3500\n",
      "ACCURACY: \n",
      "0.9891\n",
      "\n",
      "\n",
      "ON STEP: 3600\n",
      "ACCURACY: \n",
      "0.9866\n",
      "\n",
      "\n",
      "ON STEP: 3700\n",
      "ACCURACY: \n",
      "0.9903\n",
      "\n",
      "\n",
      "ON STEP: 3800\n",
      "ACCURACY: \n",
      "0.9878\n",
      "\n",
      "\n",
      "ON STEP: 3900\n",
      "ACCURACY: \n",
      "0.9865\n",
      "\n",
      "\n",
      "ON STEP: 4000\n",
      "ACCURACY: \n",
      "0.9866\n",
      "\n",
      "\n",
      "ON STEP: 4100\n",
      "ACCURACY: \n",
      "0.987\n",
      "\n",
      "\n",
      "ON STEP: 4200\n",
      "ACCURACY: \n",
      "0.9916\n",
      "\n",
      "\n",
      "ON STEP: 4300\n",
      "ACCURACY: \n",
      "0.9894\n",
      "\n",
      "\n",
      "ON STEP: 4400\n",
      "ACCURACY: \n",
      "0.9904\n",
      "\n",
      "\n",
      "ON STEP: 4500\n",
      "ACCURACY: \n",
      "0.9897\n",
      "\n",
      "\n",
      "ON STEP: 4600\n",
      "ACCURACY: \n",
      "0.9895\n",
      "\n",
      "\n",
      "ON STEP: 4700\n",
      "ACCURACY: \n",
      "0.9909\n",
      "\n",
      "\n",
      "ON STEP: 4800\n",
      "ACCURACY: \n",
      "0.9889\n",
      "\n",
      "\n",
      "ON STEP: 4900\n",
      "ACCURACY: \n",
      "0.9895\n",
      "\n",
      "\n"
     ]
    }
   ],
   "source": [
    "with tf.Session() as sess: \n",
    "    \n",
    "    sess.run(vars_initializer)\n",
    "    \n",
    "    for i in range(steps):\n",
    "        \n",
    "        batch_x, batch_y = mnist.train.next_batch(50)\n",
    "        \n",
    "        sess.run(cnn_trainer, feed_dict={x:batch_x, y_true: batch_y, hold_prob: 0.5})\n",
    "        \n",
    "        if i % 100 == 0:\n",
    "            print('ON STEP: {}'.format(i))\n",
    "            print('ACCURACY: ')\n",
    "            \n",
    "            \n",
    "            matches = tf.equal(tf.argmax(y_pred,1), tf.argmax(y_true,1))\n",
    "            \n",
    "            acc = tf.reduce_mean(tf.cast(matches, tf.float32))\n",
    "            \n",
    "            \n",
    "            test_accuracy = sess.run ( acc, feed_dict = {x: mnist.test.images, \\\n",
    "                                                        y_true: mnist.test.labels, \\\n",
    "                                                        hold_prob: 1.0})\n",
    "            \n",
    "            print(test_accuracy)\n",
    "            print('\\n')"
   ]
  }
 ],
 "metadata": {
  "kernelspec": {
   "display_name": "Python 3",
   "language": "python",
   "name": "python3"
  },
  "language_info": {
   "codemirror_mode": {
    "name": "ipython",
    "version": 3
   },
   "file_extension": ".py",
   "mimetype": "text/x-python",
   "name": "python",
   "nbconvert_exporter": "python",
   "pygments_lexer": "ipython3",
   "version": "3.7.12"
  }
 },
 "nbformat": 4,
 "nbformat_minor": 5
}
