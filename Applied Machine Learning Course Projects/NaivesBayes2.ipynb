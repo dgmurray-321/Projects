{
  "cells": [
    {
      "cell_type": "code",
      "execution_count": 1,
      "metadata": {
        "colab": {
          "base_uri": "https://localhost:8080/"
        },
        "id": "9rEW8kItSrQL",
        "outputId": "d0010f58-7a70-4fb2-9198-addf4d72ffcc"
      },
      "outputs": [
        {
          "name": "stdout",
          "output_type": "stream",
          "text": [
            "\n",
            "[notice] A new release of pip available: 22.1.2 -> 23.3\n",
            "[notice] To update, run: python.exe -m pip install --upgrade pip\n",
            "Note: you may need to restart the kernel to use updated packages.\n"
          ]
        },
        {
          "name": "stderr",
          "output_type": "stream",
          "text": [
            "ERROR: Could not find a version that satisfies the requirement collections (from versions: none)\n",
            "ERROR: No matching distribution found for collections\n"
          ]
        }
      ],
      "source": [
        "pip install collections"
      ]
    },
    {
      "cell_type": "code",
      "execution_count": 2,
      "metadata": {
        "colab": {
          "base_uri": "https://localhost:8080/"
        },
        "id": "o8rRzJJ1SrQS",
        "outputId": "fe6f80ce-acf2-43bf-8879-cebcfebd489d"
      },
      "outputs": [
        {
          "name": "stdout",
          "output_type": "stream",
          "text": [
            "\n",
            "[notice] A new release of pip available: 22.1.2 -> 23.3\n",
            "[notice] To update, run: python.exe -m pip install --upgrade pip\n",
            "Note: you may need to restart the kernel to use updated packages.\n"
          ]
        },
        {
          "name": "stderr",
          "output_type": "stream",
          "text": [
            "ERROR: Could not find a version that satisfies the requirement codecs (from versions: none)\n",
            "ERROR: No matching distribution found for codecs\n"
          ]
        }
      ],
      "source": [
        "pip install codecs"
      ]
    },
    {
      "cell_type": "code",
      "execution_count": 3,
      "metadata": {
        "colab": {
          "base_uri": "https://localhost:8080/"
        },
        "id": "b9xddYReSrQT",
        "outputId": "95c0b1d9-cc0d-4d6f-e784-29febb1d667d"
      },
      "outputs": [
        {
          "name": "stdout",
          "output_type": "stream",
          "text": [
            "\n",
            "[notice] A new release of pip available: 22.1.2 -> 23.3\n",
            "[notice] To update, run: python.exe -m pip install --upgrade pip\n",
            "Note: you may need to restart the kernel to use updated packages.\n"
          ]
        },
        {
          "name": "stderr",
          "output_type": "stream",
          "text": [
            "ERROR: Invalid requirement: '__future__'\n"
          ]
        }
      ],
      "source": [
        "pip install __future__"
      ]
    },
    {
      "cell_type": "markdown",
      "metadata": {
        "id": "OLyXaVVYn0xm"
      },
      "source": [
        "For this assignment I will be using naives bayes to classify if the text is a either positive or negative review."
      ]
    },
    {
      "cell_type": "code",
      "execution_count": 4,
      "metadata": {
        "id": "nTFEZjQNa1Co"
      },
      "outputs": [],
      "source": [
        "import matplotlib.pyplot as plt\n",
        "import numpy as np\n",
        "import pandas as pd"
      ]
    },
    {
      "cell_type": "code",
      "execution_count": 5,
      "metadata": {
        "id": "t_Kn-5O1SrQU"
      },
      "outputs": [],
      "source": [
        "from collections import Counter"
      ]
    },
    {
      "cell_type": "code",
      "execution_count": 6,
      "metadata": {
        "id": "W8_5yJS6SrQU"
      },
      "outputs": [],
      "source": [
        "from codecs import open\n",
        "from __future__ import division"
      ]
    },
    {
      "cell_type": "code",
      "execution_count": 7,
      "metadata": {
        "id": "KnKZSgm0SrQU"
      },
      "outputs": [],
      "source": [
        "def read_documents(doc_file):\n",
        "    docs= []\n",
        "    labels = []\n",
        "    with open(doc_file, encoding='utf-8') as f:\n",
        "        for line in f:\n",
        "            words = line.strip().split()\n",
        "            docs.append(words[3:])\n",
        "            labels.append(words[1])\n",
        "    return docs, labels"
      ]
    },
    {
      "cell_type": "code",
      "execution_count": 8,
      "metadata": {
        "id": "MZzh4LK5SrQU"
      },
      "outputs": [],
      "source": [
        "all_docs, all_labels = read_documents('all_sentiment_shuffled.txt')\n"
      ]
    },
    {
      "cell_type": "code",
      "execution_count": 9,
      "metadata": {
        "id": "Vkw9JJHUa50e"
      },
      "outputs": [],
      "source": [
        "label_counts = Counter(all_labels)"
      ]
    },
    {
      "cell_type": "code",
      "execution_count": 10,
      "metadata": {
        "id": "wtrjAHyJbf-U"
      },
      "outputs": [],
      "source": [
        "labels__, counts = zip(*label_counts.items())"
      ]
    },
    {
      "cell_type": "code",
      "execution_count": 11,
      "metadata": {
        "colab": {
          "base_uri": "https://localhost:8080/",
          "height": 518
        },
        "id": "6Njyi-cfbqCz",
        "outputId": "c10cdd8f-9b7a-4e86-9e93-c46a8421e4c2"
      },
      "outputs": [
        {
          "name": "stdout",
          "output_type": "stream",
          "text": [
            "Count for each label: \n",
            " neg    5914\n",
            "pos    6000\n",
            "dtype: int64\n"
          ]
        },
        {
          "data": {
            "image/png": "[encoded data removed]",
            "text/plain": [
              "<Figure size 640x480 with 1 Axes>"
            ]
          },
          "metadata": {},
          "output_type": "display_data"
        }
      ],
      "source": [
        "import pandas as pd\n",
        "print(\"Count for each label:\",'\\n',pd.Series(label_counts))\n",
        "plt.bar(labels__, counts)\n",
        "plt.xlabel(\"Labels\")\n",
        "plt.ylabel(\"Frequency\")\n",
        "plt.show()"
      ]
    },
    {
      "cell_type": "markdown",
      "metadata": {
        "id": "tGTyoINYodu-"
      },
      "source": [
        "There are 5914 negative reviews and 6000 positive reviews, indicating that there is a little undersampling, however, since these values are so close, it should not have an influence on the predictive accuracy of the naives bayes model."
      ]
    },
    {
      "cell_type": "code",
      "execution_count": 12,
      "metadata": {
        "id": "sGuk1ZPZSrQU"
      },
      "outputs": [],
      "source": [
        "split_point = int(0.80*len(all_docs))\n",
        "train_docs = all_docs[:split_point]\n",
        "train_labels = all_labels[:split_point]\n",
        "eval_docs = all_docs[split_point:]\n",
        "eval_labels = all_labels[split_point:]"
      ]
    },
    {
      "cell_type": "code",
      "execution_count": 13,
      "metadata": {
        "id": "PCik8V6yd5Oi"
      },
      "outputs": [],
      "source": [
        "freq_all = Counter(word for doc in all_docs for word in doc)"
      ]
    },
    {
      "cell_type": "code",
      "execution_count": 14,
      "metadata": {
        "id": "li3ObJ6DeFoj"
      },
      "outputs": [],
      "source": [
        "most_common = freq_all.most_common(30)"
      ]
    },
    {
      "cell_type": "code",
      "execution_count": 15,
      "metadata": {
        "colab": {
          "base_uri": "https://localhost:8080/",
          "height": 1000
        },
        "id": "t7UU8BNFeNtR",
        "outputId": "a4f78add-7f76-4277-9b21-9d96bed8f10a"
      },
      "outputs": [
        {
          "data": {
            "image/png": "[encoded data removed]",
            "text/plain": [
              "<Figure size 1200x1200 with 1 Axes>"
            ]
          },
          "metadata": {},
          "output_type": "display_data"
        }
      ],
      "source": [
        "\n",
        "words, frequencies = zip(*most_common)\n",
        "plt.figure(figsize = (12,12))\n",
        "plt.bar(words, frequencies)\n",
        "plt.xlabel(\"words\")\n",
        "plt.ylabel(\"Frequency\")\n",
        "plt.show()"
      ]
    },
    {
      "cell_type": "markdown",
      "metadata": {
        "id": "dOOSQw5TpWAK"
      },
      "source": [
        "According the bar graph, the top 30 most common words are all stopwords or punctuations. Since, these words are not going to be removed, this will decrease the predictive accuracy of the model."
      ]
    },
    {
      "cell_type": "code",
      "execution_count": 16,
      "metadata": {
        "id": "WtQQ_8jzSrQV"
      },
      "outputs": [],
      "source": [
        "def train_nb(documents, labels):\n",
        "\n",
        "    class_count = Counter(labels)\n",
        "\n",
        "\n",
        "    word_count = {}\n",
        "\n",
        "\n",
        "    total_words = Counter()\n",
        "\n",
        "\n",
        "    freqs2 = Counter()\n",
        "    for doc in documents:\n",
        "        freqs2.update(doc)\n",
        "\n",
        "\n",
        "    for doc, label in zip(documents, labels):\n",
        "\n",
        "        word_count[label] = word_count.get(label, Counter()) + Counter(doc)\n",
        "\n",
        "\n",
        "        total_words += Counter(doc)\n",
        "\n",
        "\n",
        "    prior_probs = {label: count / len(labels) for label, count in class_count.items()}\n",
        "\n",
        "\n",
        "    words_size = len(total_words)\n",
        "    word_probs = {}\n",
        "    smoothing_factor = 1.0\n",
        "\n",
        "    for label in class_count:\n",
        "        label_word_count = word_count.get(label, Counter())\n",
        "        word_probs[label] = {word: (count + smoothing_factor) / (sum(label_word_count.values()) + smoothing_factor * words_size) for word, count in freqs2.items()}\n",
        "\n",
        "    return prior_probs, word_probs\n",
        "\n"
      ]
    },
    {
      "cell_type": "code",
      "execution_count": 17,
      "metadata": {
        "id": "Hj3SHZcoSrQV"
      },
      "outputs": [],
      "source": [
        "prior_probs, word_probs = train_nb(train_docs, train_labels)"
      ]
    },
    {
      "cell_type": "code",
      "execution_count": 18,
      "metadata": {
        "id": "usJ9eRTiSrQW"
      },
      "outputs": [],
      "source": [
        "import numpy\n",
        "from collections import Counter\n",
        "\n",
        "def score_doc_label(document, label, prior_probs, word_probs):\n",
        "    log_prob = np.log(prior_probs[label])\n",
        "\n",
        "    for word in document:\n",
        "        if word in word_probs[label]:\n",
        "            log_prob += np.log(word_probs[label][word])\n",
        "        else:\n",
        "\n",
        "            log_prob += np.log(1.0 / (sum(word_probs[label].values()) + len(word_probs[label])))\n",
        "\n",
        "    return log_prob\n"
      ]
    },
    {
      "cell_type": "code",
      "execution_count": 19,
      "metadata": {},
      "outputs": [],
      "source": [
        "\n",
        "def classify_nb(document, prior_probs, word_probs):\n",
        "    log_probs = {}\n",
        "\n",
        "    for label in prior_probs:\n",
        "        log_probs[label] = score_doc_label(document, label, prior_probs, word_probs)\n",
        "\n",
        "\n",
        "    return max(log_probs, key=log_probs.get)\n"
      ]
    },
    {
      "cell_type": "code",
      "execution_count": 23,
      "metadata": {},
      "outputs": [],
      "source": [
        "\n",
        "def classify_documents(docs, prior_probs, word_probs):\n",
        "    predicted_labels = [classify_nb(doc, prior_probs, word_probs) for doc in docs]\n",
        "    return predicted_labels\n",
        "\n",
        "def accuracy(true_labels, guessed_labels):\n",
        "    correct = sum(1 for true, guessed in zip(true_labels, guessed_labels) if true == guessed)\n",
        "    return correct / len(true_labels)"
      ]
    },
    {
      "cell_type": "code",
      "execution_count": 21,
      "metadata": {
        "colab": {
          "base_uri": "https://localhost:8080/"
        },
        "id": "45mK0NDC6vfx",
        "outputId": "5ba0cc90-59e7-400d-bd03-45cbc4c7f777"
      },
      "outputs": [
        {
          "name": "stdout",
          "output_type": "stream",
          "text": [
            "Review 0: do not buy this iron . it 's fabulous while it works , for which it does merit the one star . but it broke in less than a week . it overheated , or something , and then would n't turn on again . but here 's the kicker : if you buy it from amazon , the company wo n't honor the warranty . i do n't have particularly heavy-duty hair . this is just totally unacceptable . \n",
            " Predicted Label: neg \n",
            " Actual Label: neg \n",
            "\n",
            "Review 1: the series just keeps on getting better . the bob newhart show was one of the best comedies ever on television . the other funny show was \" newhart \" , which i cannot understand why it has not been released on dvd . the whole cast just clicks . i wish shows like this were still on television . if you enjoy a good laugh then buy this and the other sets ! \n",
            " Predicted Label: neg \n",
            " Actual Label: pos \n",
            "\n",
            "Review 2: i bought this apple humidifier in early november . it stopped working soon at the first time i used it . i later found out that there was no water exchange unless you shake it or move it so that it might continue to work for a while and then stopped again . you have to repeat the above steps in order to keep it working . i contacted the manufacturer and got replacement . however , the new one has the same problem , and what 's worse , it leaks ! ! i talked to the manufacturer again , but they did n't think there should be such problem and refused to do anything else . now i have to keep this defected machine and have no idea what to do \n",
            " Predicted Label: neg \n",
            " Actual Label: neg \n",
            "\n",
            "Review 3: i highly recommend this super wide angle lens for anyone wanting to take landscape pictures , buildings or lots of other stuff ! it is so different than the standard kit lens ( 18-55 ) . you wo n't be sorry when you start learning all the possibilities of the extraordinary lens \n",
            " Predicted Label: neg \n",
            " Actual Label: pos \n",
            "\n",
            "Review 4: this is one of the better historical dramas from the 1970s . many are stagey and slow , and while this production of madame bovary is very much constrained to stay indoors , this works to advantage for this story of a woman who feels so trapped by her life and her world . emma bovary is not a very sympathetic creature . she is married to a man who loves her with all his heart , who tries to give her everything she wants , is willing to ruin himself to make her happy , and she still cheats on him and remains miserable . in short , she is selfish and inconsiderate , as ugly inside as she is pretty on the outside . francesca annis plays emma . she is indeed very beautiful . as an actress she often comes across as bright and hard , flirty and flighty , but cold and self satisfied . these qualities , of course , are perfect for this character . here she seems to be more in love with the idea of being in love than actually loving . almost anything to break up the dismal tedium of her life and her disgust with everyone and everything in it . it is very hard for a modern audience to feel sorry for her . her daily trial does not include housework or drudgery , she has maids for that . she is bored because she is useless , she is useless because she is too lazy to seek something meaningful to do ; she wants life to be a party , and resents it when it is not . tom conti plays her devoted husband , who is completely devoid of ambition , in work or society . as an actor , conti often seems to have just woken from a nap , and this dampness is just right for dr. bovary . he too is very lazy in his way , but his seems to stem from ignorance . when contrasted with emma 's willfulness , her husband seems the infinitely better of the two . conti is really fine here as a man completely out of his depth with this racehorse of a wife . in much the same way , while annis is briskly carrying every scene , conti just quietly steals every one of them . a perfect pairing for these roles . all the actors here are top notch , and the casting a bit off beat , which adds to the interest . the costumes , especially emmas , are a luxurious parade of overindulgence . absolutely beautiful . while we as an audience enjoy the parade of finery , we can also see how this wardrobe would drive even the richest man into the poorhouse . the production is topped off with a novel and lovely score of predominantly piano compositions ; pretty and liltling , but melancholy and dissonant . do n't let this one get lost in the shuffle , it is worth seeing . \n",
            " Predicted Label: neg \n",
            " Actual Label: pos \n",
            "\n",
            "Review 5: everyone uses office . everyone is familiar with office . so why did ms change the interface to make it nearly impossible to get anything done ? i am computer savy ( i 'm an engineer ) and i find the new ribbon interface totally infuriating . worst of all there is no way to go back to the \" old \" drop down menu system . it honestly takes me 10x the time to get anything done with word / powerpoint because they 've buried functionality behind these ridiculous ribbons . ms claims that you will be able to be much more productive once you 're familiar with the ribbons . i do n't know / care whether that 's true or not . the learning curve to get to the point of fluency with their new ui is immense . so much so that the time investment to become proficient far far far out ways any \" increase \" in productivity....not to mention that it 's overpriced . offce 2003 is a far superior product \n",
            " Predicted Label: neg \n",
            " Actual Label: neg \n",
            "\n",
            "Review 6: a wonderful wonderful book.although the book was written some 150 year ago , mary eliza rogers takes you into the intimacies of daily life in palestine in the 1850 's as if it was occurring today . she writes from her heart with honesty , integrity and a clear mind . and although written at a time of victorian prejudicies and colonialism she writes without bias or judgement . from her beautiful and colourful descriptions one can envisage the holy land as it was before undergoing the process of modernisation and change . for anyone who has any attachment to this land it is a truly wonderful and personal experience to read this book \n",
            " Predicted Label: neg \n",
            " Actual Label: pos \n",
            "\n",
            "Review 7: i am rating this program just one star because i found out after ordering that it is not compatible with digital voice recorders . i did go to the nuance website before ordering . they did n't have a little chart to tell what the difference was between preferred and standard . anyway , if you want naturally speaking to do transcribing , you need the preferred version , not this one . \n",
            " Predicted Label: neg \n",
            " Actual Label: neg \n",
            "\n",
            "Review 8: he just needs to retire . screw this non-gangsta . no real g sings , they just rap , god \n",
            " Predicted Label: neg \n",
            " Actual Label: neg \n",
            "\n",
            "Review 9: i agree with other reviewers that it feels good and does n't smell too much , however , i 've experimented with it several times to confirm my findings , and it turns out to give me really bad blackheads . i 'm 25 with an oily t-zone and very dry facial skin . on mornings after using this cream , i have nasty blackheads on my forehead and chin . there are better products out there \n",
            " Predicted Label: neg \n",
            " Actual Label: neg \n",
            "\n",
            "Accuracy: 0.6\n"
          ]
        }
      ],
      "source": [
        "count_acc = 0\n",
        "for i in range(10):\n",
        "    predicted_label = classify_nb(eval_docs[i], prior_probs, word_probs)\n",
        "    actual_label = eval_labels[i]\n",
        "    print(\"Review {}:\".format(i), \" \".join(eval_docs[i]),\n",
        "          '\\n', \"Predicted Label:\", predicted_label, '\\n', \"Actual Label:\", actual_label, '\\n')\n",
        "    if predicted_label == actual_label:\n",
        "        count_acc = count_acc + 1\n",
        "\n",
        "accuracy = count_acc / 10\n",
        "print(\"Accuracy:\", accuracy)"
      ]
    },
    {
      "cell_type": "markdown",
      "metadata": {
        "id": "BgTxDgs4J2C6"
      },
      "source": [
        "I selected 10 documents to compare the predicted class and the actual class of the documents. The naive bayes algorithm correctly classified 6 out of the 10 documents. When looking at these documents to determine why some of them were misclassified, I noticed that when the reviewer made a comparison to another product, and mention how much worse the other product was, the algorithm assumed that the reviewer was talking about new product. Leading the algorithm to classify it as a negative review instead of positive."
      ]
    },
    {
      "cell_type": "code",
      "execution_count": 24,
      "metadata": {
        "colab": {
          "base_uri": "https://localhost:8080/"
        },
        "id": "Ufsn6kw05MSd",
        "outputId": "8e0d03db-9f3c-437c-e6ce-faa01d33d6ee"
      },
      "outputs": [
        {
          "name": "stdout",
          "output_type": "stream",
          "text": [
            "Accuracy on the test set: 51.65757448594209\n"
          ]
        }
      ],
      "source": [
        "test_predicted_labels = classify_documents(eval_docs, prior_probs, word_probs)\n",
        "accuracy_value = accuracy(eval_labels, test_predicted_labels)\n",
        "print(\"Accuracy on the test set:\", accuracy_value*100)"
      ]
    },
    {
      "cell_type": "markdown",
      "metadata": {
        "id": "GJmRenKdOUUe"
      },
      "source": [
        "The model achieved an accuracy score of 51.66%, which is underwhelming, this may be because of the stop words and punctations adding noise to the data, which can make the algorithm struggle to detect the patterns in the text."
      ]
    },
    {
      "cell_type": "code",
      "execution_count": 25,
      "metadata": {
        "colab": {
          "background_save": true
        },
        "id": "nsabxVxESrQW",
        "outputId": "5600f4bb-9dd8-408b-b483-10a27cf50105"
      },
      "outputs": [
        {
          "name": "stdout",
          "output_type": "stream",
          "text": [
            "Mean Accuracy: 0.5101556892810218\n"
          ]
        }
      ],
      "source": [
        "from collections import Counter\n",
        "\n",
        "def cross_validation(docs, labels, N=5):\n",
        "    fold_size = len(docs) // N\n",
        "    accuracies = []\n",
        "\n",
        "    for fold_nbr in range(N):\n",
        "        split_point_1 = int(float(fold_nbr) / N * len(docs))\n",
        "        split_point_2 = int(float(fold_nbr + 1) / N * len(docs))\n",
        "\n",
        "        train_docs_fold = docs[:split_point_1] + docs[split_point_2:]\n",
        "        train_labels_fold = labels[:split_point_1] + labels[split_point_2:]\n",
        "        eval_docs_fold = docs[split_point_1:split_point_2]\n",
        "        eval_labels_fold = labels[split_point_1:split_point_2]\n",
        "\n",
        "        prior_probs, word_probs = train_nb(train_docs_fold, train_labels_fold)\n",
        "        predicted_labels = classify_documents(eval_docs_fold, prior_probs, word_probs)\n",
        "        acc = accuracy(eval_labels_fold, predicted_labels)\n",
        "        accuracies.append(acc)\n",
        "\n",
        "    avg_accuracy = sum(accuracies) / N\n",
        "\n",
        "    return avg_accuracy\n",
        "\n",
        "\n",
        "avg_acc = cross_validation(all_docs, all_labels, N=5)\n",
        "print(\"Mean Accuracy:\", avg_acc)\n"
      ]
    },
    {
      "cell_type": "markdown",
      "metadata": {
        "id": "yR78f4B_O7rj"
      },
      "source": [
        "After performing cross validation on the whole dataset, it achieved a score of , which is also very underwhelming. As previously stated, the stopwords and puncuation may have had an influence on the algorithm. By removing these stopwords and punctuations, I believe the accuracy will signficantly decrease."
      ]
    },
    {
      "cell_type": "markdown",
      "metadata": {
        "id": "oeGdwLwdQEJc"
      },
      "source": [
        "In conclusion, the model has the ability to correctly classify the reviews about 50% of the time, I would suggest not to deploy this model, instead seek ways to improve the model like removing the stop words and punctuations before training the naive bayes model. Another con when developing and executing the model was the run time when training the data, and performing cross validation on it. Training took about 3 minutes to run and cross valiation took about 16 minutes to run. This indicates that running this model is computationally expensive."
      ]
    }
  ],
  "metadata": {
    "colab": {
      "provenance": []
    },
    "kernelspec": {
      "display_name": "Python 3",
      "language": "python",
      "name": "python3"
    },
    "language_info": {
      "codemirror_mode": {
        "name": "ipython",
        "version": 3
      },
      "file_extension": ".py",
      "mimetype": "text/x-python",
      "name": "python",
      "nbconvert_exporter": "python",
      "pygments_lexer": "ipython3",
      "version": "3.10.5"
    }
  },
  "nbformat": 4,
  "nbformat_minor": 0
}
